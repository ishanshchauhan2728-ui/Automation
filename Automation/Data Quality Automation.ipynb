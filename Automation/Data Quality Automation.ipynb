{
 "cells": [
  {
   "cell_type": "code",
   "execution_count": null,
   "id": "30eb1851-1264-4479-91a0-5c2b5acc9466",
   "metadata": {},
   "outputs": [],
   "source": [
    "## for extracting TOP 5 rows\n",
    "print(df.head())\n",
    "\n",
    "## for extracting BOTTOM 5 rows\n",
    "print(df.tail())\n",
    "\n",
    "## for knowing the datatypes and null values\n",
    "print(df.info())\n",
    "\n",
    "## for checking missing values in all Column\n",
    "print(df.isnull.().sum())\n",
    "\n",
    "##for checking missing values in specific column\n",
    "print(df['Column_name'].isnull().sum())\n",
    "\n",
    "##for checking duplicate rows in Data\n",
    "print(df.duplicated().sum())\n",
    "\n",
    "##for checking duplicates values in specific column\n",
    "print(df.duplicates('column_name').sum())\n"
   ]
  }
 ],
 "metadata": {
  "kernelspec": {
   "display_name": "Python [conda env:base] *",
   "language": "python",
   "name": "conda-base-py"
  },
  "language_info": {
   "codemirror_mode": {
    "name": "ipython",
    "version": 3
   },
   "file_extension": ".py",
   "mimetype": "text/x-python",
   "name": "python",
   "nbconvert_exporter": "python",
   "pygments_lexer": "ipython3",
   "version": "3.12.7"
  }
 },
 "nbformat": 4,
 "nbformat_minor": 5
}

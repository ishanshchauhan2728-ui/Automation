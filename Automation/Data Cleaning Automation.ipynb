{
 "cells": [
  {
   "cell_type": "markdown",
   "id": "3a454fbd-a02d-48f0-bce7-a5edf883b72d",
   "metadata": {},
   "source": [
    "#Data Cleaning"
   ]
  },
  {
   "cell_type": "code",
   "execution_count": null,
   "id": "22bdae6d-bfe5-4f91-9b07-0d54a14d08bd",
   "metadata": {},
   "outputs": [],
   "source": [
    "## for deleting duplicate rows\n",
    "print(df.drop_duplicates(keep=first))\n",
    "\n",
    "## for handle missing value in data\n",
    "df.fillna(value=0, inplace=True)\n",
    "print(df)\n",
    "\n",
    "##for handle missing values in specific column\n",
    "df['column_name']=df['column_name'].fillna(df['column_name'].mean())\n",
    "\n",
    "##for handle missing values in multiple columns\n",
    "df.fillna({'column1':df['column1'].mean(), 'column2':df['column2'].mean()}, inplace=True)\n",
    "print(df)\n",
    "\n",
    "## for standardize the text in the column\n",
    "df['Gender']=df['Gender'].str.upper().replace({'MALE':'M','FEMALE':'F','NOT KNOWN':'NA'}) # MALE=key, M=Value\n",
    "print(df)\n",
    "\n",
    "## handle the string values in numeric data column\n",
    "df['Fees']=pd.to_numeric(df['Fees'], errors ='coerce') #it returns NaN value if some string occur in column, we can handle it after use fillna or mean()\n",
    "print(df)\n",
    "\n",
    "## handle the format of Date Column \n",
    "df['Date']=pd.to_datetime(df['Date'], errors = 'coerce', dayfirst=True)  # dayfirst = True used for DD/MM/YYYY format, day pehle aaega\n",
    "print(df)\n",
    "\n",
    "## for change the datatype of column\n",
    "df['Column_name']=df['Column_name'].astype(int)   # type can be float, string or integer\n",
    "print(df)"
   ]
  },
  {
   "cell_type": "code",
   "execution_count": null,
   "id": "07f36e2c-bc68-4285-b0de-31eb190f1b20",
   "metadata": {},
   "outputs": [],
   "source": [
    "#Example\n",
    "def clean_data(df):\n",
    "    df.drop_duplicates(inplace=True)\n",
    "    df[\"Name\"] = df[\"Name\"].str.strip()\n",
    "    df[\"Gender\"] = df[\"Gender\"].str.lower().replace({\"male\":\"M\", \"female\":\"F\"})\n",
    "    df[\"Age\"].fillna(df[\"Age\"].mean(), inplace=True)\n",
    "    df[\"ID\"] = df[\"ID\"].astype(str)\n",
    "    df[\"Fees\"] = pd.to_numeric(df[\"Fees\"], errors=\"coerce\")\n",
    "    return df\n",
    "\n",
    "df = clean_data(df)\n",
    "print(df)\n"
   ]
  },
  {
   "cell_type": "code",
   "execution_count": null,
   "id": "0005124e-fb10-4fec-acf8-2760c4d9b06c",
   "metadata": {},
   "outputs": [],
   "source": [
    "## for export the data in Database\n",
    "\n",
    "df.to_sql(\"Students_Cleaned\", engine, if_exists=\"replace\", index=False)"
   ]
  },
  {
   "cell_type": "code",
   "execution_count": null,
   "id": "2b4565f0-550e-4252-9445-559998fb8c88",
   "metadata": {},
   "outputs": [],
   "source": [
    "## for export data in CSV file\n",
    "\n",
    "df.to_csv(\"students_cleaned.csv\", index=False)\n"
   ]
  }
 ],
 "metadata": {
  "kernelspec": {
   "display_name": "Python [conda env:base] *",
   "language": "python",
   "name": "conda-base-py"
  },
  "language_info": {
   "codemirror_mode": {
    "name": "ipython",
    "version": 3
   },
   "file_extension": ".py",
   "mimetype": "text/x-python",
   "name": "python",
   "nbconvert_exporter": "python",
   "pygments_lexer": "ipython3",
   "version": "3.12.7"
  }
 },
 "nbformat": 4,
 "nbformat_minor": 5
}
